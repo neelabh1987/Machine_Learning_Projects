{
 "cells": [
  {
   "cell_type": "code",
   "execution_count": 1,
   "metadata": {},
   "outputs": [],
   "source": [
    "import pandas as pd\n",
    "import numpy as np\n",
    "import seaborn as sns\n",
    "import warnings\n",
    "warnings.filterwarnings('ignore')"
   ]
  },
  {
   "cell_type": "markdown",
   "metadata": {},
   "source": [
    "#### Reading dataset"
   ]
  },
  {
   "cell_type": "code",
   "execution_count": 2,
   "metadata": {},
   "outputs": [
    {
     "name": "stderr",
     "output_type": "stream",
     "text": [
      "b'Skipping line 2810: expected 2 fields, saw 5\\nSkipping line 4641: expected 2 fields, saw 5\\nSkipping line 7171: expected 2 fields, saw 5\\nSkipping line 11220: expected 2 fields, saw 5\\nSkipping line 13809: expected 2 fields, saw 5\\nSkipping line 14132: expected 2 fields, saw 5\\nSkipping line 14293: expected 2 fields, saw 5\\nSkipping line 14865: expected 2 fields, saw 5\\nSkipping line 17419: expected 2 fields, saw 5\\nSkipping line 22801: expected 2 fields, saw 5\\nSkipping line 25001: expected 2 fields, saw 5\\nSkipping line 26603: expected 2 fields, saw 5\\nSkipping line 26742: expected 2 fields, saw 5\\nSkipping line 29702: expected 2 fields, saw 5\\nSkipping line 32767: expected 2 fields, saw 5\\nSkipping line 32878: expected 2 fields, saw 5\\nSkipping line 35643: expected 2 fields, saw 5\\nSkipping line 36550: expected 2 fields, saw 5\\nSkipping line 38732: expected 2 fields, saw 5\\nSkipping line 40567: expected 2 fields, saw 5\\nSkipping line 40576: expected 2 fields, saw 5\\nSkipping line 41864: expected 2 fields, saw 5\\nSkipping line 46861: expected 2 fields, saw 5\\nSkipping line 47939: expected 2 fields, saw 5\\nSkipping line 48628: expected 2 fields, saw 5\\nSkipping line 48908: expected 2 fields, saw 5\\nSkipping line 57582: expected 2 fields, saw 5\\nSkipping line 58782: expected 2 fields, saw 5\\nSkipping line 58984: expected 2 fields, saw 5\\nSkipping line 61518: expected 2 fields, saw 5\\nSkipping line 63451: expected 2 fields, saw 5\\nSkipping line 68141: expected 2 fields, saw 5\\nSkipping line 72083: expected 2 fields, saw 5\\nSkipping line 74027: expected 2 fields, saw 5\\nSkipping line 77811: expected 2 fields, saw 5\\nSkipping line 83958: expected 2 fields, saw 5\\nSkipping line 85295: expected 2 fields, saw 5\\nSkipping line 88665: expected 2 fields, saw 5\\nSkipping line 89198: expected 2 fields, saw 5\\nSkipping line 92499: expected 2 fields, saw 5\\nSkipping line 92751: expected 2 fields, saw 5\\nSkipping line 93689: expected 2 fields, saw 5\\nSkipping line 94776: expected 2 fields, saw 5\\nSkipping line 97334: expected 2 fields, saw 5\\nSkipping line 102316: expected 2 fields, saw 5\\nSkipping line 103421: expected 2 fields, saw 5\\nSkipping line 106872: expected 2 fields, saw 5\\nSkipping line 109363: expected 2 fields, saw 5\\nSkipping line 110117: expected 2 fields, saw 5\\nSkipping line 110465: expected 2 fields, saw 5\\nSkipping line 113843: expected 2 fields, saw 5\\nSkipping line 115634: expected 2 fields, saw 5\\nSkipping line 121518: expected 2 fields, saw 5\\nSkipping line 123692: expected 2 fields, saw 5\\nSkipping line 124708: expected 2 fields, saw 5\\nSkipping line 129608: expected 2 fields, saw 5\\nSkipping line 133176: expected 2 fields, saw 5\\nSkipping line 135532: expected 2 fields, saw 5\\nSkipping line 138042: expected 2 fields, saw 5\\nSkipping line 139485: expected 2 fields, saw 5\\nSkipping line 140401: expected 2 fields, saw 5\\nSkipping line 144093: expected 2 fields, saw 5\\nSkipping line 149850: expected 2 fields, saw 5\\nSkipping line 151831: expected 2 fields, saw 5\\nSkipping line 158014: expected 2 fields, saw 5\\nSkipping line 162047: expected 2 fields, saw 5\\nSkipping line 164515: expected 2 fields, saw 5\\nSkipping line 170313: expected 2 fields, saw 5\\nSkipping line 171325: expected 2 fields, saw 5\\nSkipping line 171424: expected 2 fields, saw 5\\nSkipping line 175920: expected 2 fields, saw 5\\nSkipping line 176210: expected 2 fields, saw 5\\nSkipping line 183603: expected 2 fields, saw 5\\nSkipping line 190264: expected 2 fields, saw 5\\nSkipping line 191683: expected 2 fields, saw 5\\nSkipping line 191988: expected 2 fields, saw 5\\nSkipping line 195450: expected 2 fields, saw 5\\nSkipping line 195754: expected 2 fields, saw 5\\nSkipping line 197124: expected 2 fields, saw 5\\nSkipping line 199263: expected 2 fields, saw 5\\nSkipping line 202603: expected 2 fields, saw 5\\nSkipping line 209960: expected 2 fields, saw 5\\nSkipping line 213218: expected 2 fields, saw 5\\nSkipping line 217060: expected 2 fields, saw 5\\nSkipping line 220121: expected 2 fields, saw 5\\nSkipping line 223518: expected 2 fields, saw 5\\nSkipping line 226293: expected 2 fields, saw 5\\nSkipping line 227035: expected 2 fields, saw 7\\nSkipping line 227341: expected 2 fields, saw 5\\nSkipping line 227808: expected 2 fields, saw 5\\nSkipping line 228516: expected 2 fields, saw 5\\nSkipping line 228733: expected 2 fields, saw 5\\nSkipping line 232043: expected 2 fields, saw 5\\nSkipping line 232426: expected 2 fields, saw 5\\nSkipping line 234490: expected 2 fields, saw 5\\nSkipping line 239626: expected 2 fields, saw 5\\nSkipping line 240461: expected 2 fields, saw 5\\nSkipping line 244518: expected 2 fields, saw 5\\nSkipping line 245395: expected 2 fields, saw 5\\nSkipping line 246168: expected 2 fields, saw 5\\nSkipping line 246655: expected 2 fields, saw 5\\nSkipping line 246752: expected 2 fields, saw 5\\nSkipping line 247189: expected 2 fields, saw 5\\nSkipping line 250276: expected 2 fields, saw 5\\nSkipping line 255327: expected 2 fields, saw 5\\nSkipping line 257094: expected 2 fields, saw 5\\n'\n",
      "b'Skipping line 264626: expected 2 fields, saw 5\\nSkipping line 265028: expected 2 fields, saw 5\\nSkipping line 269150: expected 2 fields, saw 5\\nSkipping line 271360: expected 2 fields, saw 5\\nSkipping line 273975: expected 2 fields, saw 5\\nSkipping line 274742: expected 2 fields, saw 5\\nSkipping line 276227: expected 2 fields, saw 5\\nSkipping line 279807: expected 2 fields, saw 5\\nSkipping line 283425: expected 2 fields, saw 5\\nSkipping line 287468: expected 2 fields, saw 5\\nSkipping line 292995: expected 2 fields, saw 5\\nSkipping line 293496: expected 2 fields, saw 5\\nSkipping line 293735: expected 2 fields, saw 5\\nSkipping line 295060: expected 2 fields, saw 5\\nSkipping line 296643: expected 2 fields, saw 5\\nSkipping line 296848: expected 2 fields, saw 5\\nSkipping line 308926: expected 2 fields, saw 5\\nSkipping line 310360: expected 2 fields, saw 5\\nSkipping line 317004: expected 2 fields, saw 5\\nSkipping line 318207: expected 2 fields, saw 5\\nSkipping line 331783: expected 2 fields, saw 5\\nSkipping line 333864: expected 2 fields, saw 5\\nSkipping line 335958: expected 2 fields, saw 5\\nSkipping line 336290: expected 2 fields, saw 5\\nSkipping line 343526: expected 2 fields, saw 5\\nSkipping line 343857: expected 2 fields, saw 5\\nSkipping line 344059: expected 2 fields, saw 5\\nSkipping line 348691: expected 2 fields, saw 5\\nSkipping line 353446: expected 2 fields, saw 5\\nSkipping line 357073: expected 2 fields, saw 5\\nSkipping line 359753: expected 2 fields, saw 5\\nSkipping line 359974: expected 2 fields, saw 5\\nSkipping line 366534: expected 2 fields, saw 5\\nSkipping line 369514: expected 2 fields, saw 5\\nSkipping line 377759: expected 2 fields, saw 5\\nSkipping line 379327: expected 2 fields, saw 5\\nSkipping line 380769: expected 2 fields, saw 5\\nSkipping line 381073: expected 2 fields, saw 5\\nSkipping line 381489: expected 2 fields, saw 5\\nSkipping line 386304: expected 2 fields, saw 5\\nSkipping line 387635: expected 2 fields, saw 5\\nSkipping line 389613: expected 2 fields, saw 5\\nSkipping line 392604: expected 2 fields, saw 5\\nSkipping line 393184: expected 2 fields, saw 5\\nSkipping line 395530: expected 2 fields, saw 5\\nSkipping line 396939: expected 2 fields, saw 5\\nSkipping line 397385: expected 2 fields, saw 5\\nSkipping line 397509: expected 2 fields, saw 5\\nSkipping line 402902: expected 2 fields, saw 5\\nSkipping line 405187: expected 2 fields, saw 5\\nSkipping line 408412: expected 2 fields, saw 5\\nSkipping line 419423: expected 2 fields, saw 5\\nSkipping line 420962: expected 2 fields, saw 5\\nSkipping line 425965: expected 2 fields, saw 5\\nSkipping line 427496: expected 2 fields, saw 5\\nSkipping line 438881: expected 2 fields, saw 5\\nSkipping line 439776: expected 2 fields, saw 5\\nSkipping line 440345: expected 2 fields, saw 5\\nSkipping line 445507: expected 2 fields, saw 5\\nSkipping line 445548: expected 2 fields, saw 5\\nSkipping line 447184: expected 2 fields, saw 5\\nSkipping line 448603: expected 2 fields, saw 5\\nSkipping line 451732: expected 2 fields, saw 5\\nSkipping line 458249: expected 2 fields, saw 5\\nSkipping line 460274: expected 2 fields, saw 5\\nSkipping line 467630: expected 2 fields, saw 5\\nSkipping line 473961: expected 2 fields, saw 5\\nSkipping line 476281: expected 2 fields, saw 5\\nSkipping line 478010: expected 2 fields, saw 5\\nSkipping line 478322: expected 2 fields, saw 5\\nSkipping line 479999: expected 2 fields, saw 5\\nSkipping line 480898: expected 2 fields, saw 5\\nSkipping line 481688: expected 2 fields, saw 5\\nSkipping line 485193: expected 2 fields, saw 5\\nSkipping line 485519: expected 2 fields, saw 5\\nSkipping line 486000: expected 2 fields, saw 5\\nSkipping line 489063: expected 2 fields, saw 5\\nSkipping line 494525: expected 2 fields, saw 5\\nSkipping line 495009: expected 2 fields, saw 5\\nSkipping line 501954: expected 2 fields, saw 5\\nSkipping line 508035: expected 2 fields, saw 5\\nSkipping line 508828: expected 2 fields, saw 5\\nSkipping line 509833: expected 2 fields, saw 5\\nSkipping line 510410: expected 2 fields, saw 5\\nSkipping line 518229: expected 2 fields, saw 5\\nSkipping line 520302: expected 2 fields, saw 5\\nSkipping line 520340: expected 2 fields, saw 5\\n'\n"
     ]
    },
    {
     "name": "stderr",
     "output_type": "stream",
     "text": [
      "b'Skipping line 525174: expected 2 fields, saw 5\\nSkipping line 526251: expected 2 fields, saw 5\\nSkipping line 529611: expected 2 fields, saw 5\\nSkipping line 531398: expected 2 fields, saw 5\\nSkipping line 534146: expected 2 fields, saw 5\\nSkipping line 544954: expected 2 fields, saw 5\\nSkipping line 553002: expected 2 fields, saw 5\\nSkipping line 553883: expected 2 fields, saw 5\\nSkipping line 553887: expected 2 fields, saw 5\\nSkipping line 553915: expected 2 fields, saw 5\\nSkipping line 554172: expected 2 fields, saw 5\\nSkipping line 563534: expected 2 fields, saw 5\\nSkipping line 565191: expected 2 fields, saw 5\\nSkipping line 574108: expected 2 fields, saw 5\\nSkipping line 574412: expected 2 fields, saw 5\\nSkipping line 575985: expected 2 fields, saw 5\\nSkipping line 580091: expected 2 fields, saw 5\\nSkipping line 582682: expected 2 fields, saw 5\\nSkipping line 585885: expected 2 fields, saw 5\\nSkipping line 590171: expected 2 fields, saw 5\\nSkipping line 591924: expected 2 fields, saw 5\\nSkipping line 592515: expected 2 fields, saw 5\\nSkipping line 593888: expected 2 fields, saw 5\\nSkipping line 596245: expected 2 fields, saw 5\\nSkipping line 607344: expected 2 fields, saw 5\\nSkipping line 607633: expected 2 fields, saw 5\\nSkipping line 610939: expected 2 fields, saw 5\\nSkipping line 613638: expected 2 fields, saw 5\\nSkipping line 615643: expected 2 fields, saw 5\\nSkipping line 615901: expected 2 fields, saw 5\\nSkipping line 617389: expected 2 fields, saw 5\\nSkipping line 634641: expected 2 fields, saw 5\\nSkipping line 635755: expected 2 fields, saw 5\\nSkipping line 646243: expected 2 fields, saw 5\\nSkipping line 647165: expected 2 fields, saw 5\\nSkipping line 648610: expected 2 fields, saw 5\\nSkipping line 648772: expected 2 fields, saw 5\\nSkipping line 651833: expected 2 fields, saw 5\\nSkipping line 653663: expected 2 fields, saw 5\\nSkipping line 656233: expected 2 fields, saw 5\\nSkipping line 656694: expected 2 fields, saw 5\\nSkipping line 659783: expected 2 fields, saw 5\\nSkipping line 660478: expected 2 fields, saw 5\\nSkipping line 661133: expected 2 fields, saw 5\\nSkipping line 661736: expected 2 fields, saw 5\\nSkipping line 669827: expected 2 fields, saw 5\\n'\n"
     ]
    },
    {
     "data": {
      "text/html": [
       "<div>\n",
       "<style scoped>\n",
       "    .dataframe tbody tr th:only-of-type {\n",
       "        vertical-align: middle;\n",
       "    }\n",
       "\n",
       "    .dataframe tbody tr th {\n",
       "        vertical-align: top;\n",
       "    }\n",
       "\n",
       "    .dataframe thead th {\n",
       "        text-align: right;\n",
       "    }\n",
       "</style>\n",
       "<table border=\"1\" class=\"dataframe\">\n",
       "  <thead>\n",
       "    <tr style=\"text-align: right;\">\n",
       "      <th></th>\n",
       "      <th>password</th>\n",
       "      <th>strength</th>\n",
       "    </tr>\n",
       "  </thead>\n",
       "  <tbody>\n",
       "    <tr>\n",
       "      <th>0</th>\n",
       "      <td>kzde5577</td>\n",
       "      <td>1</td>\n",
       "    </tr>\n",
       "    <tr>\n",
       "      <th>1</th>\n",
       "      <td>kino3434</td>\n",
       "      <td>1</td>\n",
       "    </tr>\n",
       "    <tr>\n",
       "      <th>2</th>\n",
       "      <td>visi7k1yr</td>\n",
       "      <td>1</td>\n",
       "    </tr>\n",
       "    <tr>\n",
       "      <th>3</th>\n",
       "      <td>megzy123</td>\n",
       "      <td>1</td>\n",
       "    </tr>\n",
       "    <tr>\n",
       "      <th>4</th>\n",
       "      <td>lamborghin1</td>\n",
       "      <td>1</td>\n",
       "    </tr>\n",
       "  </tbody>\n",
       "</table>\n",
       "</div>"
      ],
      "text/plain": [
       "      password  strength\n",
       "0     kzde5577         1\n",
       "1     kino3434         1\n",
       "2    visi7k1yr         1\n",
       "3     megzy123         1\n",
       "4  lamborghin1         1"
      ]
     },
     "execution_count": 2,
     "metadata": {},
     "output_type": "execute_result"
    }
   ],
   "source": [
    "data=pd.read_csv('data.csv',error_bad_lines=False)\n",
    "data.head()"
   ]
  },
  {
   "cell_type": "code",
   "execution_count": 3,
   "metadata": {},
   "outputs": [
    {
     "data": {
      "text/plain": [
       "array([1, 2, 0], dtype=int64)"
      ]
     },
     "execution_count": 3,
     "metadata": {},
     "output_type": "execute_result"
    }
   ],
   "source": [
    "data['strength'].unique()"
   ]
  },
  {
   "cell_type": "code",
   "execution_count": null,
   "metadata": {},
   "outputs": [],
   "source": []
  },
  {
   "cell_type": "markdown",
   "metadata": {},
   "source": [
    "#### code to check all the missing values in my dataset"
   ]
  },
  {
   "cell_type": "code",
   "execution_count": 4,
   "metadata": {},
   "outputs": [
    {
     "data": {
      "text/plain": [
       "password    1\n",
       "strength    0\n",
       "dtype: int64"
      ]
     },
     "execution_count": 4,
     "metadata": {},
     "output_type": "execute_result"
    }
   ],
   "source": [
    "data.isnull().sum()"
   ]
  },
  {
   "cell_type": "code",
   "execution_count": 5,
   "metadata": {},
   "outputs": [
    {
     "data": {
      "text/html": [
       "<div>\n",
       "<style scoped>\n",
       "    .dataframe tbody tr th:only-of-type {\n",
       "        vertical-align: middle;\n",
       "    }\n",
       "\n",
       "    .dataframe tbody tr th {\n",
       "        vertical-align: top;\n",
       "    }\n",
       "\n",
       "    .dataframe thead th {\n",
       "        text-align: right;\n",
       "    }\n",
       "</style>\n",
       "<table border=\"1\" class=\"dataframe\">\n",
       "  <thead>\n",
       "    <tr style=\"text-align: right;\">\n",
       "      <th></th>\n",
       "      <th>password</th>\n",
       "      <th>strength</th>\n",
       "    </tr>\n",
       "  </thead>\n",
       "  <tbody>\n",
       "    <tr>\n",
       "      <th>367579</th>\n",
       "      <td>NaN</td>\n",
       "      <td>0</td>\n",
       "    </tr>\n",
       "  </tbody>\n",
       "</table>\n",
       "</div>"
      ],
      "text/plain": [
       "       password  strength\n",
       "367579      NaN         0"
      ]
     },
     "execution_count": 5,
     "metadata": {},
     "output_type": "execute_result"
    }
   ],
   "source": [
    "data[data['password'].isnull()]"
   ]
  },
  {
   "cell_type": "code",
   "execution_count": 6,
   "metadata": {},
   "outputs": [],
   "source": [
    "data.dropna(inplace=True)"
   ]
  },
  {
   "cell_type": "code",
   "execution_count": 7,
   "metadata": {},
   "outputs": [
    {
     "data": {
      "text/plain": [
       "password    0\n",
       "strength    0\n",
       "dtype: int64"
      ]
     },
     "execution_count": 7,
     "metadata": {},
     "output_type": "execute_result"
    }
   ],
   "source": [
    "data.isnull().sum()"
   ]
  },
  {
   "cell_type": "code",
   "execution_count": 8,
   "metadata": {},
   "outputs": [
    {
     "data": {
      "text/plain": [
       "<AxesSubplot:xlabel='strength', ylabel='count'>"
      ]
     },
     "execution_count": 8,
     "metadata": {},
     "output_type": "execute_result"
    },
    {
     "data": {
      "image/png": "[encoded data removed]",
      "text/plain": [
       "<Figure size 432x288 with 1 Axes>"
      ]
     },
     "metadata": {
      "needs_background": "light"
     },
     "output_type": "display_data"
    }
   ],
   "source": [
    "sns.countplot(data['strength'])"
   ]
  },
  {
   "cell_type": "code",
   "execution_count": 9,
   "metadata": {},
   "outputs": [],
   "source": [
    "password_list=np.array(data)"
   ]
  },
  {
   "cell_type": "code",
   "execution_count": 10,
   "metadata": {},
   "outputs": [
    {
     "data": {
      "text/plain": [
       "array([['kzde5577', 1],\n",
       "       ['kino3434', 1],\n",
       "       ['visi7k1yr', 1],\n",
       "       ...,\n",
       "       ['184520socram', 1],\n",
       "       ['marken22a', 1],\n",
       "       ['fxx4pw4g', 1]], dtype=object)"
      ]
     },
     "execution_count": 10,
     "metadata": {},
     "output_type": "execute_result"
    }
   ],
   "source": [
    "password_list"
   ]
  },
  {
   "cell_type": "code",
   "execution_count": null,
   "metadata": {},
   "outputs": [],
   "source": []
  },
  {
   "cell_type": "markdown",
   "metadata": {},
   "source": [
    "#### shuffling randomly for robustness"
   ]
  },
  {
   "cell_type": "code",
   "execution_count": 11,
   "metadata": {},
   "outputs": [],
   "source": [
    "import random\n",
    "random.shuffle(password_list)"
   ]
  },
  {
   "cell_type": "code",
   "execution_count": 12,
   "metadata": {},
   "outputs": [],
   "source": [
    "x=[labels[0] for labels in password_list]\n",
    "y=[labels[1] for labels in password_list]\n"
   ]
  },
  {
   "cell_type": "code",
   "execution_count": 13,
   "metadata": {},
   "outputs": [
    {
     "data": {
      "text/plain": [
       "['kzde5577',\n",
       " 'kino3434',\n",
       " 'kino3434',\n",
       " 'kzde5577',\n",
       " 'lamborghin1',\n",
       " 'megzy123',\n",
       " 'megzy123',\n",
       " 'kino3434',\n",
       " 'megzy123',\n",
       " 'lamborghin1',\n",
       " 'kino3434',\n",
       " 'AVYq1lDE4MgAZfNt',\n",
       " 'u6c8vhow',\n",
       " 'as326159',\n",
       " 'u6c8vhow',\n",
       " 'visi7k1yr',\n",
       " 'kzde5577',\n",
       " 'visi7k1yr',\n",
       " 'g067057895',\n",
       " '6975038lp',\n",
       " 'v1118714',\n",
       " 'visi7k1yr',\n",
       " 'kzde5577',\n",
       " 'jytifok873',\n",
       " 'universe2908',\n",
       " 'intel1',\n",
       " '52558000aaa',\n",
       " 'klara-tershina3H',\n",
       " 'WUt9IZzE0OQ7PkNE',\n",
       " 'v1118714',\n",
       " '0169395484a',\n",
       " 'intel1',\n",
       " 'AVYq1lDE4MgAZfNt',\n",
       " '0169395484a',\n",
       " '6975038lp',\n",
       " 'idofo673',\n",
       " 'trabajonet9',\n",
       " 'exitos2009',\n",
       " 'kswa2mrv',\n",
       " 'go7kew7a2po',\n",
       " 'jerusalem393',\n",
       " 'intel1',\n",
       " 'asv5o9yu',\n",
       " 'memjan123',\n",
       " 'fk9qi21m',\n",
       " 'prisonbreak1',\n",
       " 'v1118714',\n",
       " 'schalke04',\n",
       " 'v1118714',\n",
       " 'g067057895',\n",
       " 'lsdlsd1',\n",
       " 'exitos2009',\n",
       " 'universe2908',\n",
       " 'asgaliu11',\n",
       " 'fahad123',\n",
       " 'memjan123',\n",
       " 'bozoxik602',\n",
       " 'ok>bdk',\n",
       " 'jerusalem393',\n",
       " 'schalke04',\n",
       " 'ejeko677',\n",
       " 'd04m11',\n",
       " 'gaymaids1',\n",
       " 'bozoxik602',\n",
       " 'hpqkoxsn5',\n",
       " 'g067057895',\n",
       " 'pHyqueDIyNQ8vmhb',\n",
       " 'yk530mg8',\n",
       " 'alimagik1',\n",
       " 'sbl571017',\n",
       " 'yqugu927',\n",
       " '612035180tok',\n",
       " 'alimagik1',\n",
       " 'asv5o9yu',\n",
       " 'lamborghin1',\n",
       " 'yk530mg8',\n",
       " 'calcifer32',\n",
       " 'pHyqueDIyNQ8vmhb',\n",
       " 'yqugu927',\n",
       " 'faranumar91',\n",
       " 'calcifer32',\n",
       " 'gdfn76',\n",
       " 'asv5o9yu',\n",
       " 'ejeko677',\n",
       " 'fahad123',\n",
       " 'yk530mg8',\n",
       " 'c3h8bkzr',\n",
       " '3vszncp4',\n",
       " 'il0vey0u',\n",
       " 'juliana19',\n",
       " 'faranumar91',\n",
       " 'bozoxik602',\n",
       " 'juliana19',\n",
       " 'faranumar91',\n",
       " 'fk9qi21m',\n",
       " 'bozoxik602',\n",
       " 'bgrvl80',\n",
       " 'mickael12',\n",
       " 'v1118714',\n",
       " 'il0vey0u',\n",
       " 'exitos2009',\n",
       " 'd04m11',\n",
       " 'g067057895',\n",
       " 'bgrvl80',\n",
       " 'gill02',\n",
       " 'intel1',\n",
       " 'sknq7m0',\n",
       " 'ga98SIzk0NwhiZaE',\n",
       " 's4m2dx9e6',\n",
       " '929865yt',\n",
       " 'k9b8cz6aj2',\n",
       " 'ns2b0727',\n",
       " 'fahad123',\n",
       " 'RqsuUsDYxNgr8T40',\n",
       " 'gkrqjs6',\n",
       " 'mmm23mm',\n",
       " 'kzde5577',\n",
       " 'rntprns7',\n",
       " 'elonex24',\n",
       " 'b4NbTxDEyNgG141J',\n",
       " 'farrukhcse12',\n",
       " 'poseidon2011',\n",
       " 'universe2908',\n",
       " 'p2share',\n",
       " 'ok>bdk',\n",
       " 'as326159',\n",
       " '612035180tok',\n",
       " 'jalingo1',\n",
       " 'calcifer32',\n",
       " 'fnmsdha476',\n",
       " 'b4NbTxDEyNgG141J',\n",
       " 'sbl571017',\n",
       " 'elonex24',\n",
       " 'g067057895',\n",
       " 'mmm23mm',\n",
       " 'schalke04',\n",
       " '929865yt',\n",
       " 'jonothepoop1',\n",
       " 'b4NbTxDEyNgG141J',\n",
       " 'jytifok873',\n",
       " 'vehat387',\n",
       " '3y6iwef2g6',\n",
       " 'rntprns7',\n",
       " '20Dgw7TQ0OQVdly7',\n",
       " 'asgaliu11',\n",
       " 'RPFUOUDQwMwVW0AS',\n",
       " 'RPFUOUDQwMwVW0AS',\n",
       " '612035180tok',\n",
       " 'g3rappa',\n",
       " 'oekojWyH120063',\n",
       " 'kino3434',\n",
       " 'fk9qi21m',\n",
       " 'gdfn76',\n",
       " '123477889a',\n",
       " 'warriors08',\n",
       " 'jalingo1',\n",
       " 'yu4cmn',\n",
       " 'kinga22',\n",
       " 'sanki1',\n",
       " 'il0vey0u',\n",
       " '26522876p',\n",
       " 'bozoxik602',\n",
       " 'bozoxik602',\n",
       " 'RqsuUsDYxNgr8T40',\n",
       " '12345yolanda',\n",
       " 'g3rappa',\n",
       " 'woon12',\n",
       " 'g3rappa',\n",
       " 'portales1',\n",
       " 'jalingo1',\n",
       " 'g3rappa',\n",
       " 'ekufite742',\n",
       " 'portales1',\n",
       " 'g067057895',\n",
       " 'RPFUOUDQwMwVW0AS',\n",
       " 'hodygid757',\n",
       " 'openup12',\n",
       " 'gaymaids1',\n",
       " 'lsdlsd1',\n",
       " 'xiau5ff',\n",
       " 'Iamthelegend1!',\n",
       " 'WUt9IZzE0OQ7PkNE',\n",
       " 'jerusalem393',\n",
       " 'b4NbTxDEyNgG141J',\n",
       " 'pHyqueDIyNQ8vmhb',\n",
       " 'juliel009',\n",
       " 'yqugu927',\n",
       " 'jUV4dSDQwNwPpA36',\n",
       " 'finisterra1',\n",
       " 'alchimie79',\n",
       " 'ebacuro434',\n",
       " 'demon10',\n",
       " 'jUV4dSDQwNwPpA36',\n",
       " 'fk9qi21m',\n",
       " 'p@sslng2diword',\n",
       " 'pato221182',\n",
       " 'kayal123',\n",
       " '4fqa52vecr',\n",
       " 'wxS2ztDk4OATjBfI',\n",
       " 'pikey231',\n",
       " 'pHyqueDIyNQ8vmhb',\n",
       " 'megzy123',\n",
       " 'fk9qi21m',\n",
       " 'mohantra1',\n",
       " 'marita1',\n",
       " 'juliel009',\n",
       " 'trabajonet9',\n",
       " 'as326159',\n",
       " 'matiofox08',\n",
       " 'meopvywk628',\n",
       " '4fqa52vecr',\n",
       " 'openup12',\n",
       " 'idofo673',\n",
       " 'd04m11',\n",
       " '2yz4ewwg',\n",
       " 'gaymaids1',\n",
       " '746xitEGiqObog',\n",
       " 'tucagu356',\n",
       " 'mmm23mm',\n",
       " 'www32223222',\n",
       " 'faranumar91',\n",
       " 'nK0yKXTU0NQHZE2e',\n",
       " 'asv5o9yu',\n",
       " 'oekojWyH120063',\n",
       " 'aquhih220',\n",
       " 'afs34214',\n",
       " '2yz4ewwg',\n",
       " 'z3ro1sm',\n",
       " 'igejasy712',\n",
       " 'www32223222',\n",
       " 'X9WVojjE4MgVAIiR',\n",
       " 'prisonbreak1',\n",
       " '2akira2',\n",
       " '283671gus',\n",
       " 'cesarmaio1',\n",
       " 'sbl571017',\n",
       " '6tequila6',\n",
       " 'teste10',\n",
       " 'jonothepoop1',\n",
       " '0169395484a',\n",
       " 'cockw0mble',\n",
       " '283671gus',\n",
       " '612035180tok',\n",
       " 'tomas7896',\n",
       " '6975038lp',\n",
       " 'sasuke4',\n",
       " 'nK0yKXTU0NQHZE2e',\n",
       " 'nicolas05',\n",
       " '64959rodro',\n",
       " 'ekufite742',\n",
       " '2yz4ewwg',\n",
       " 'igejasy712',\n",
       " 'faranumar91',\n",
       " 'matiofox08',\n",
       " 'sbl571017',\n",
       " 'fnmsdha476',\n",
       " 'visi7k1yr',\n",
       " 'snolyuj04',\n",
       " '64959rodro',\n",
       " 'ikanez886',\n",
       " 'gtlek',\n",
       " 'nK0yKXTU0NQHZE2e',\n",
       " 'polo2014',\n",
       " 'rntprns7',\n",
       " 'X9WVojjE4MgVAIiR',\n",
       " 'qn5xpg3k00',\n",
       " 'hodygid757',\n",
       " 'mmm23mm',\n",
       " 'z3ro1sm',\n",
       " 'ns2b0727',\n",
       " 'fahad123',\n",
       " 'prisonbreak1',\n",
       " 'witek1709',\n",
       " 'y0unus',\n",
       " 'fahad123',\n",
       " 'hosna1368',\n",
       " 'cesarmaio1',\n",
       " 'juliel009',\n",
       " 'p@sslng2diword',\n",
       " 'fahad123',\n",
       " 'xyws951753',\n",
       " 'g067057895',\n",
       " 'warriors08',\n",
       " '12345yolanda',\n",
       " 'lsdlsd1',\n",
       " 'teste10',\n",
       " 'hosna1368',\n",
       " 'pato221182',\n",
       " 'obstacle25',\n",
       " 'q0pv0fk',\n",
       " 'shotiko18',\n",
       " 'p2share',\n",
       " 'znbl5tj1',\n",
       " 'fnmsdha476',\n",
       " '6tequila6',\n",
       " 'il0vey0u',\n",
       " 'edcmki90',\n",
       " 'rLLh4WDQ2OAWbDO5',\n",
       " '1597535youssi',\n",
       " 'moken7',\n",
       " 'pikey231',\n",
       " 'kry1z9',\n",
       " '6975038lp',\n",
       " '26522876p',\n",
       " '159951josh',\n",
       " 'virush1n1',\n",
       " 'tahseen75',\n",
       " 'bencike7',\n",
       " 'xlxlxl777',\n",
       " 'okn9zp9o',\n",
       " 'idofo673',\n",
       " 'holamundo1',\n",
       " 'portales1',\n",
       " 'a110804032',\n",
       " 's9830950044',\n",
       " '7mV0pKTA3MgHy8Jv',\n",
       " 'demon10',\n",
       " 'krumbul123',\n",
       " 'samael666',\n",
       " 'denise18',\n",
       " 'gaymaids1',\n",
       " 'qn5xpg3k00',\n",
       " 'q0pv0fk',\n",
       " 'khmer100.03278&?><Mnb',\n",
       " 'hayhayq2',\n",
       " 'xp;ysmybst',\n",
       " 'sydney213',\n",
       " 'jerusalem393',\n",
       " 'webstudio8',\n",
       " 'khurram_',\n",
       " 'oekojWyH120063',\n",
       " 'sknq7m0',\n",
       " 'zoobike04',\n",
       " 'universe2908',\n",
       " '3y6iwef2g6',\n",
       " 'teste10',\n",
       " 'asv5o9yu',\n",
       " 'DTUQG5jU5MwmR1L9',\n",
       " 'xyws951753',\n",
       " 'kswa2mrv',\n",
       " 'mathilde54550',\n",
       " 'jEzZXUTE3MgJ4fVk',\n",
       " 'icap12',\n",
       " 'ejeko677',\n",
       " 'han19660120',\n",
       " 'openup12',\n",
       " 'beijing168',\n",
       " 'bugatti01',\n",
       " 'okn9zp9o',\n",
       " 'uxyloga692',\n",
       " 'alimagik1',\n",
       " 'kayal123',\n",
       " 'YADHJIGSAWS11',\n",
       " 'kVczcljg4OA25Aeb',\n",
       " 'clyioqzgw42',\n",
       " 'gkrqjs6',\n",
       " 'ikanez886',\n",
       " 'v1118714',\n",
       " 'saule123',\n",
       " '52558000aaa',\n",
       " 'gdfn76',\n",
       " 'beijing168',\n",
       " 'mayur@8netinfotech',\n",
       " 'rntprns7',\n",
       " '3vszncp4',\n",
       " 'cdann123',\n",
       " 'sydney213',\n",
       " 'beijing168',\n",
       " 't8IkFRDIxMAFV2JW',\n",
       " 'Staterkom20081993',\n",
       " 'ga98SIzk0NwhiZaE',\n",
       " 'peluchin4',\n",
       " '2GnTStTE4Mw4MTwv',\n",
       " 'z7zbgIDkzMQeHUd9',\n",
       " 'koabcswzt3',\n",
       " 'visi7k1yr',\n",
       " 'yy4129',\n",
       " 'kuntz80',\n",
       " '0VKWoODkwOAc0pZK',\n",
       " 'webstudio8',\n",
       " 'beijing168',\n",
       " 'examy624',\n",
       " 'puegwajy416',\n",
       " 'kino3434',\n",
       " 'cristiano7',\n",
       " '123nicole',\n",
       " '4165000yakub',\n",
       " 'bencike7',\n",
       " 'ga98SIzk0NwhiZaE',\n",
       " 'as326159',\n",
       " 'ns2b0727',\n",
       " 'bellsuki1',\n",
       " 'koabcswzt3',\n",
       " 'jonothepoop1',\n",
       " 'vehat387',\n",
       " '52558000aaa',\n",
       " 'puegwajy416',\n",
       " 'yu86640132',\n",
       " 'a110804032',\n",
       " 'a110804032',\n",
       " 'folashade1',\n",
       " 'pazzini24',\n",
       " 'jerusalem393',\n",
       " 'kswa2mrv',\n",
       " 'samael666',\n",
       " 'memjan123',\n",
       " 'hosna1368',\n",
       " 'gkrqjs6',\n",
       " 'rogyh820',\n",
       " '07dpv1127b',\n",
       " '1qa2ws3ed4rf',\n",
       " 'klara-tershina3H',\n",
       " 'cockw0mble',\n",
       " 'AS0130066',\n",
       " 's4m2dx9e6',\n",
       " 'Iamthelegend1!',\n",
       " 'juliana19',\n",
       " '4osxw4r',\n",
       " 'parent777',\n",
       " 'khmer100.03278&?><Mnb',\n",
       " '26522876p',\n",
       " 'oscar69',\n",
       " 'virush1n1',\n",
       " 'deryxi704',\n",
       " 'ycqtgdso3',\n",
       " 'pablo321159',\n",
       " '7mV0pKTA3MgHy8Jv',\n",
       " 'byeypb2',\n",
       " 'okn9zp9o',\n",
       " '4fqa52vecr',\n",
       " 'finisterra1',\n",
       " 'bencike7',\n",
       " 'g3rappa',\n",
       " '2akira2',\n",
       " 'poseidon2011',\n",
       " 'olmaz.',\n",
       " 'b4NbTxDEyNgG141J',\n",
       " 'lamborghin1',\n",
       " 'parvizrus13',\n",
       " 'nicolas05',\n",
       " 'jerusalem393',\n",
       " 'z3ro1sm',\n",
       " 'fahad123',\n",
       " 'ebogel225',\n",
       " 'wasanun13',\n",
       " 'lamborghin1',\n",
       " 'gdfn76',\n",
       " '19821010a',\n",
       " 'v10rica',\n",
       " '64959rodro',\n",
       " 'enziitoo1234',\n",
       " 'oatcake87',\n",
       " 'trabajonet9',\n",
       " 'jerusalem393',\n",
       " 'cerner09',\n",
       " '20010509wang',\n",
       " 'Ju6BIMTU0MwYXtL4',\n",
       " 'X9WVojjE4MgVAIiR',\n",
       " '5gzj5uf',\n",
       " 'yu4cmn',\n",
       " 'tin030201',\n",
       " '2fakjv',\n",
       " 'asgaliu11',\n",
       " 'gvczfel801',\n",
       " 'xf6385494',\n",
       " 'kyodai666',\n",
       " 'wycinu436',\n",
       " 'sofietou74',\n",
       " '7942vikas',\n",
       " 'k9b8cz6aj2',\n",
       " '3CgRg8DA1NQY1iEj',\n",
       " 'a2486315',\n",
       " '612035180tok',\n",
       " '746xitEGiqObog',\n",
       " 'parent777',\n",
       " 'yhwbzci130',\n",
       " 'virush1n1',\n",
       " 'asv5o9yu',\n",
       " 'xyws951753',\n",
       " 'fnmsdha476',\n",
       " 's4m2dx9e6',\n",
       " 'matiofox08',\n",
       " 'czuodhj972',\n",
       " 'tamanagung6',\n",
       " 'yk530mg8',\n",
       " 'holamundo1',\n",
       " '612035180tok',\n",
       " 'w9209640',\n",
       " 'j09000',\n",
       " 'ocadezi586',\n",
       " 'matiz4533',\n",
       " 'prisonbreak1',\n",
       " '19840510kkk1',\n",
       " 'pilatyj280',\n",
       " 'denise18',\n",
       " 'woaini0',\n",
       " '26522876p',\n",
       " 'kzde5577',\n",
       " 'ebogel225',\n",
       " 'lymuvop730',\n",
       " 'njmania114',\n",
       " 'qwekl12',\n",
       " 'omakiva153',\n",
       " 'warriors08',\n",
       " 'v1118714',\n",
       " 'saule123',\n",
       " 'senghong2009',\n",
       " 'q0pv0fk',\n",
       " 'potatobus150',\n",
       " 'kyxvufl37',\n",
       " 'examy624',\n",
       " 'pekai2004',\n",
       " '20010509wang',\n",
       " 'kikeq102',\n",
       " 'ikanez886',\n",
       " 'hpqkoxsn5',\n",
       " 'demon10',\n",
       " 'njmania114',\n",
       " 'okn9zp9o',\n",
       " '0112358mayin0',\n",
       " 'idofo673',\n",
       " '929865yt',\n",
       " 'sd6x9s3s',\n",
       " 'jerusalem393',\n",
       " 'ninja420',\n",
       " 'x8512514',\n",
       " 'hlQ8gDTExMQWkeda',\n",
       " 'w9209640',\n",
       " 'khaled12',\n",
       " 'muoaqxwc21',\n",
       " 'afs34214',\n",
       " 'z888888',\n",
       " 'novelia21',\n",
       " '2652033abc',\n",
       " '1qa2ws3ed4r',\n",
       " 'webstudio8',\n",
       " 'sd6x9s3s',\n",
       " '101010hadis',\n",
       " 'gerardway1',\n",
       " 'desmondkok21',\n",
       " 'lamborghin1',\n",
       " 'kP82iqDMxNgBMxBP',\n",
       " 'xW8-3w7-MFB-CKH',\n",
       " 'synyxyr723',\n",
       " 'jr88072635',\n",
       " 'sebo82',\n",
       " 'j09000',\n",
       " 'sbaUsoTA1OAzuevI',\n",
       " 'viri13',\n",
       " 'matiofox08',\n",
       " 'kXzWOozU2MQ1Jv1h',\n",
       " 'grazi0201',\n",
       " 's9830950044',\n",
       " 'tomas7896',\n",
       " 'taurofive16',\n",
       " 'ram@!sita15392',\n",
       " 'IRZA98',\n",
       " 'vardhan19',\n",
       " 'parvizrus13',\n",
       " 'lrhxmevb620',\n",
       " 'moimoimoi9',\n",
       " 'wearehis7',\n",
       " 'njmania114',\n",
       " '6tequila6',\n",
       " '631ihOZogELoVap',\n",
       " 'VMjz4eTkxNAbOyUU',\n",
       " 'gerardway1',\n",
       " 'fnmsdha476',\n",
       " 'seng987321',\n",
       " 'yy4129',\n",
       " 'kenyu001',\n",
       " 'k1k2k3k4k5k6',\n",
       " 'YADHJIGSAWS11',\n",
       " 'kunyukbabi69',\n",
       " '1A2Z3E4R',\n",
       " 'obstacle25',\n",
       " 'deryxi704',\n",
       " 'may112001',\n",
       " 'stalucia66',\n",
       " 'd6VyrkFV6oblxNs5N8cW',\n",
       " 'elabadmin1386',\n",
       " '64whbrb351',\n",
       " 'IjUcOtYqAwel725',\n",
       " 'kjkjkj1',\n",
       " 'b4NbTxDEyNgG141J',\n",
       " 'roxana1993',\n",
       " 'junaid5',\n",
       " 'pHyqueDIyNQ8vmhb',\n",
       " 'avanakit72',\n",
       " 'farrukhcse12',\n",
       " 'cUFUSYKIPuGo024',\n",
       " 'oekojWyH120063',\n",
       " 'zedika521',\n",
       " 'urban1',\n",
       " 'znbl5tj1',\n",
       " 'abizar08',\n",
       " 'jsm159167',\n",
       " 'wuzyci421',\n",
       " 'owote852',\n",
       " 'bellsuki1',\n",
       " 'jEzZXUTE3MgJ4fVk',\n",
       " 'ebacuro434',\n",
       " 'Zdyf0kjMzNQycqPx',\n",
       " 'gerardway1',\n",
       " 'hello2104',\n",
       " 'lollies1989',\n",
       " 'UF1Z2WjE5Mg26R1K',\n",
       " 'DTUQG5jU5MwmR1L9',\n",
       " 'IjUcOtYqAwel725',\n",
       " 'juany57',\n",
       " 'tukaxo486',\n",
       " 'pHyqueDIyNQ8vmhb',\n",
       " 'ldteugao6',\n",
       " '3f5xd41l0ik7',\n",
       " 'obstacle25',\n",
       " '4osxw4r',\n",
       " 'puegwajy416',\n",
       " 'cristiano7',\n",
       " 'kVczcljg4OA25Aeb',\n",
       " '847XagYxUHUXOW',\n",
       " 'gtlek',\n",
       " 'bugatti01',\n",
       " 'DRAGON25',\n",
       " 'kitty555',\n",
       " 'robot425',\n",
       " 'puegwajy416',\n",
       " 'overlord3127',\n",
       " 'exusop649',\n",
       " 'ajyrew547',\n",
       " 'jytifok873',\n",
       " '1qa2ws3ed4r',\n",
       " 'X9WVojjE4MgVAIiR',\n",
       " '2d0d7qfz',\n",
       " 'universe2908',\n",
       " 'mohantra1',\n",
       " 'universe2908',\n",
       " 'barra23',\n",
       " 'eVl19ADIxNAmU09N',\n",
       " 'zu20081965',\n",
       " 'hpqkoxsn5',\n",
       " 'kyxvufl37',\n",
       " 'sbaUsoTA1OAzuevI',\n",
       " 'wycinu436',\n",
       " 'holamundo1',\n",
       " 'xf6385494',\n",
       " 'aqyba894',\n",
       " 'cesarmaio1',\n",
       " 'pedronha96',\n",
       " '2863e00016',\n",
       " 'saule123',\n",
       " 'IjUcOtYqAwel725',\n",
       " 'ydd45ee',\n",
       " 'tamanagung6',\n",
       " 'zendegi2me',\n",
       " '10Erjrlmebup0n',\n",
       " 'mathilde54550',\n",
       " 'oatcake87',\n",
       " '3vszncp4',\n",
       " 'xW8-3w7-MFB-CKH',\n",
       " 'm4r4hne',\n",
       " 'princ3sa',\n",
       " 'yllime123',\n",
       " 'u6c8vhow',\n",
       " 'tin030201',\n",
       " 'czuodhj972',\n",
       " 'afavin964',\n",
       " 'oioo9og',\n",
       " 'oscar2002',\n",
       " '3CgRg8DA1NQY1iEj',\n",
       " 'wuzsadav933',\n",
       " '746xitEGiqObog',\n",
       " '030005qw',\n",
       " 'vgnfs495vp',\n",
       " 'lymuvop730',\n",
       " 'yhwbzci130',\n",
       " 'sha122511',\n",
       " '1qa2ws3ed4rf',\n",
       " 'llahetihw1',\n",
       " 'yu86640132',\n",
       " 'rrilni1747',\n",
       " 'jbtcnd6',\n",
       " 'IRZA98',\n",
       " 'idofo673',\n",
       " 'artom111478',\n",
       " 'koabcswzt3',\n",
       " 'ci0n3exor',\n",
       " 'z888888',\n",
       " 'servbot88',\n",
       " 'viri13',\n",
       " 'moken7',\n",
       " 'meopvywk628',\n",
       " 'clave2013',\n",
       " 'oscar2002',\n",
       " 'kjkjkj1',\n",
       " 'colorado27',\n",
       " '4lgYVfzk1MwuzHcn',\n",
       " 'kitty555',\n",
       " 'exusop649',\n",
       " 'kdl9cl53',\n",
       " 'juliel009',\n",
       " 'vuqADUSatAJO800',\n",
       " '0VKWoODkwOAc0pZK',\n",
       " 'gill02',\n",
       " 'taccy12',\n",
       " 'asv5o9yu',\n",
       " 'tomas7896',\n",
       " 'vmdo3i',\n",
       " 'deryxi704',\n",
       " 'upyjlneg80',\n",
       " 'asdasdf1',\n",
       " 'eth36498',\n",
       " 'WUt9IZzE0OQ7PkNE',\n",
       " 'gvczfel801',\n",
       " 'cigicigi123',\n",
       " '0870330135a',\n",
       " 'vuqADUSatAJO800',\n",
       " 'upyjlneg80',\n",
       " 'azerty32',\n",
       " '94311163nobp',\n",
       " 'kyxvufl37',\n",
       " 'zidadoh258',\n",
       " '123477889a',\n",
       " 'samael666',\n",
       " 'finisterra1',\n",
       " 'ihana906',\n",
       " 'kinga22',\n",
       " 'iprwxmfk84',\n",
       " 'gkhan01',\n",
       " 'hello2104',\n",
       " 'koabcswzt3',\n",
       " 'franczuk33',\n",
       " 'olmaz.',\n",
       " '3vszncp4',\n",
       " 'sbnivetha123',\n",
       " 'gdfn76',\n",
       " 'gpc151192',\n",
       " 'kuntz80',\n",
       " 'barra23',\n",
       " 'd6VyrkFV6oblxNs5N8cW',\n",
       " 'ayles2266',\n",
       " '1A2Z3E4R',\n",
       " '123maxbala',\n",
       " 'Truelove19902610',\n",
       " 'arigato3',\n",
       " 'sasuke4',\n",
       " 'onurb1994',\n",
       " 'a0972986650',\n",
       " '5874813o',\n",
       " 'aqyba894',\n",
       " 'vijay1995',\n",
       " 'as8594505',\n",
       " 'witek1709',\n",
       " 'pablo321159',\n",
       " '07dpv1127b',\n",
       " 'MT766631',\n",
       " 'vijay1995',\n",
       " 'hlQ8gDTExMQWkeda',\n",
       " 'asakapa22',\n",
       " 'juliel009',\n",
       " 'k1k2k3k4k5k6',\n",
       " 'pazzini24',\n",
       " 'julie1989',\n",
       " 'mark11',\n",
       " 'pHyqueDIyNQ8vmhb',\n",
       " 'BsKbJHTY4NgesCOs',\n",
       " 'gdfn76',\n",
       " 'natalia12',\n",
       " 'QWERTY0011',\n",
       " 'yitbos77',\n",
       " '147963asd',\n",
       " 'falre1524',\n",
       " 'cifinew817',\n",
       " 'znbl5tj1',\n",
       " 'gkrqjs6',\n",
       " 'p2share',\n",
       " 'djngeyut2707',\n",
       " 'ubojig109',\n",
       " 'sanjaime1',\n",
       " '7mV0pKTA3MgHy8Jv',\n",
       " 'numero2',\n",
       " 'elonex24',\n",
       " 'ydkmujrze3',\n",
       " 'taccy12',\n",
       " 'poluxyj32',\n",
       " 'natalia12',\n",
       " 'jr88072635',\n",
       " 'pekai2004',\n",
       " 'v1s2c3456',\n",
       " '1w2e3s4l5e6y',\n",
       " 'gill02',\n",
       " 'gtlek',\n",
       " 'zeitgeist1',\n",
       " '1907sedat58',\n",
       " 's0xwym7h',\n",
       " 'ufoduvo540',\n",
       " 'servbot88',\n",
       " 'oioo9og',\n",
       " 'afavin964',\n",
       " 'mickael12',\n",
       " 'megdam55',\n",
       " '727nimdadre',\n",
       " 'oscar69',\n",
       " 'clave2013',\n",
       " 'jr88072635',\n",
       " 'wycinu436',\n",
       " '52558000aaa',\n",
       " 'Zanekurosak10%',\n",
       " 'yy4129',\n",
       " 'ryjypes139',\n",
       " 'xve33ea',\n",
       " 'sebax2013',\n",
       " 'weicat12',\n",
       " 'junaid5',\n",
       " 'tin030201',\n",
       " 'hpqkoxsn5',\n",
       " 'v8porwar3',\n",
       " 'yu86640132',\n",
       " 'rLLh4WDQ2OAWbDO5',\n",
       " 'sanki1',\n",
       " 'wuzsadav933',\n",
       " 'sasuke4',\n",
       " '0VKWoODkwOAc0pZK',\n",
       " 'koabcswzt3',\n",
       " 'JEQuloqOFUd102',\n",
       " 'rntprns7',\n",
       " 'bghuyku37',\n",
       " 'ram@!sita15392',\n",
       " '4165000yakub',\n",
       " '159951josh',\n",
       " '94311163nobp',\n",
       " 'il0vey0u',\n",
       " 'daaxvie1',\n",
       " 'hpqkoxsn5',\n",
       " 'xp;ysmybst',\n",
       " 'polo2014',\n",
       " 'hisnipes1',\n",
       " 'YADHJIGSAWS11',\n",
       " 'gtlek',\n",
       " 'paladinas1',\n",
       " 'ppnyadam09',\n",
       " 'butisugo39',\n",
       " 'rogama69',\n",
       " 'yeko69',\n",
       " 'jeeves123',\n",
       " 'j03l4ytr1',\n",
       " 'rogyh820',\n",
       " 'bozoxik602',\n",
       " 'adfbwrnt4',\n",
       " 'deivid1991',\n",
       " 'asakapa22',\n",
       " 'kayal123',\n",
       " 'RqsuUsDYxNgr8T40',\n",
       " 'afs34214',\n",
       " '123456789YO',\n",
       " 'ts34a3fodh3i',\n",
       " '2akira2',\n",
       " 'arigato3',\n",
       " 'z3ro1sm',\n",
       " 'poluxyj32',\n",
       " 'sha122511',\n",
       " 'nLIGyhTU1NQTAp6u',\n",
       " '123net123',\n",
       " 'demanet147',\n",
       " 'krumbul123',\n",
       " 'g067057895',\n",
       " 'fr8OClDY1MAdEhHa',\n",
       " 'yllime123',\n",
       " 'ocadezi586',\n",
       " 'cesarmaio1',\n",
       " 'BB11227122',\n",
       " 'lugerp08',\n",
       " 'hpqkoxsn5',\n",
       " 'plumilla1',\n",
       " 'sex1353245',\n",
       " 'calung2007',\n",
       " 'ekufite742',\n",
       " 'wuzyci421',\n",
       " 'yk530mg8',\n",
       " 'falre1524',\n",
       " 'seeyouagain1',\n",
       " 'legna13',\n",
       " 'joy112495',\n",
       " 'gtlek',\n",
       " 'hayhayq2',\n",
       " 'ejeko677',\n",
       " 'x57669',\n",
       " 'lsdlsd1',\n",
       " 'webhost08',\n",
       " '8521901bzk',\n",
       " '1jancok',\n",
       " 'pap0spep0s',\n",
       " 'v10rica',\n",
       " 'bb9530',\n",
       " 'tim80327',\n",
       " 'ykfums1',\n",
       " 'onurb1994',\n",
       " 'bjolgvhs69',\n",
       " 'demanet147',\n",
       " '2021848709.',\n",
       " 'gandhi8513',\n",
       " 'papasito1991',\n",
       " 'xx18121982',\n",
       " '7942vikas',\n",
       " '9h7v4z91',\n",
       " 'webstudio8',\n",
       " 'carla99',\n",
       " 'a110804032',\n",
       " 'hodygid757',\n",
       " 'asakapa22',\n",
       " 'clave08',\n",
       " 'xanyrum650',\n",
       " 'kciseba24521',\n",
       " 'ayles2266',\n",
       " 'mickael12',\n",
       " 'bjolgvhs69',\n",
       " 'ykfums1',\n",
       " 'jose30209',\n",
       " '26522876p',\n",
       " 'jesmond26',\n",
       " 'bijou2012',\n",
       " 'sucupi516',\n",
       " 'z3ro1sm',\n",
       " 'megdam55',\n",
       " 'samael666',\n",
       " 'killer5',\n",
       " 'jr88072635',\n",
       " 'jsm159167',\n",
       " 'vgnfs495vp',\n",
       " 'deivid1991',\n",
       " 'eVl19ADIxNAmU09N',\n",
       " 'wisal1234',\n",
       " 'schalke04',\n",
       " 'ldteugao6',\n",
       " 'tollak123',\n",
       " 'w1e2s3l4',\n",
       " 'acetita478',\n",
       " '23deagosto',\n",
       " 'x0004534',\n",
       " 'w9209640',\n",
       " 'lovelory1',\n",
       " '20010509wang',\n",
       " 'tksURwTM2Ng8Clsi',\n",
       " 'zcsntdmhe098',\n",
       " 'maulana79',\n",
       " 'tia150979',\n",
       " 'exitos2009',\n",
       " 'arum210684',\n",
       " '9h7v4z91',\n",
       " '600eretz',\n",
       " 'Ju6BIMTU0MwYXtL4',\n",
       " 'hodygid757',\n",
       " 'jl440033',\n",
       " '52558000aaa',\n",
       " 'ok>bdk',\n",
       " 'webstudio8',\n",
       " '1vikaspoon',\n",
       " '3rambywople',\n",
       " '210496av',\n",
       " 'omakiva153',\n",
       " 'paul2007',\n",
       " 'before1go',\n",
       " 'mxvurqyws5',\n",
       " 'demanet147',\n",
       " '01161590m',\n",
       " 'yudhia30',\n",
       " 'tin030201',\n",
       " 'xtswdypgh936',\n",
       " 'yv3hpf',\n",
       " 'jUV4dSDQwNwPpA36',\n",
       " 'Iamthelegend1!',\n",
       " 'jrj7tst383lv',\n",
       " 'lancer319',\n",
       " 'v10rica',\n",
       " 'jgsxkcp639',\n",
       " 'clave08',\n",
       " 'franczuk33',\n",
       " 'wearehis7',\n",
       " 'folashade1',\n",
       " 'ineedyou23',\n",
       " 'j09000',\n",
       " 'n501iomf',\n",
       " 'kahcyxvj24',\n",
       " 'oatcake87',\n",
       " 'orysex325',\n",
       " 'seller1',\n",
       " 'ok>bdk',\n",
       " 'jsm159167',\n",
       " 'visi7k1yr',\n",
       " 'sarahi1628',\n",
       " 'IRZA98',\n",
       " 'khmer100.03278&?><Mnb',\n",
       " 'universe2908',\n",
       " 'guliotth82',\n",
       " 'sydney213',\n",
       " 'nhrfkv2s12',\n",
       " '847XagYxUHUXOW',\n",
       " 'd6VyrkFV6oblxNs5N8cW',\n",
       " 'acgyj188',\n",
       " 'sebax2013',\n",
       " 'kry1z9',\n",
       " ...]"
      ]
     },
     "execution_count": 13,
     "metadata": {},
     "output_type": "execute_result"
    }
   ],
   "source": [
    "x"
   ]
  },
  {
   "cell_type": "code",
   "execution_count": null,
   "metadata": {},
   "outputs": [],
   "source": []
  },
  {
   "cell_type": "markdown",
   "metadata": {},
   "source": [
    "#### create a custom function to split input into characters of list"
   ]
  },
  {
   "cell_type": "code",
   "execution_count": 14,
   "metadata": {},
   "outputs": [],
   "source": [
    "def word_divide_char(inputs):\n",
    "    character=[]\n",
    "    for i in inputs:\n",
    "        character.append(i)\n",
    "    return character"
   ]
  },
  {
   "cell_type": "code",
   "execution_count": 15,
   "metadata": {},
   "outputs": [
    {
     "data": {
      "text/plain": [
       "['k', 'z', 'd', 'e', '5', '5', '7', '7']"
      ]
     },
     "execution_count": 15,
     "metadata": {},
     "output_type": "execute_result"
    }
   ],
   "source": [
    "word_divide_char('kzde5577')"
   ]
  },
  {
   "cell_type": "code",
   "execution_count": null,
   "metadata": {},
   "outputs": [],
   "source": []
  },
  {
   "cell_type": "markdown",
   "metadata": {},
   "source": [
    "#### import TF-IDF vectorizer to convert String data into numerical data"
   ]
  },
  {
   "cell_type": "code",
   "execution_count": 16,
   "metadata": {},
   "outputs": [],
   "source": [
    "from sklearn.feature_extraction.text import TfidfVectorizer"
   ]
  },
  {
   "cell_type": "code",
   "execution_count": 17,
   "metadata": {},
   "outputs": [],
   "source": [
    "vectorizer=TfidfVectorizer(tokenizer=word_divide_char)"
   ]
  },
  {
   "cell_type": "markdown",
   "metadata": {},
   "source": [
    "#### apply TF-IDF vectorizer on data"
   ]
  },
  {
   "cell_type": "code",
   "execution_count": 18,
   "metadata": {},
   "outputs": [],
   "source": [
    "X=vectorizer.fit_transform(x)"
   ]
  },
  {
   "cell_type": "code",
   "execution_count": 19,
   "metadata": {},
   "outputs": [
    {
     "data": {
      "text/plain": [
       "(669639, 133)"
      ]
     },
     "execution_count": 19,
     "metadata": {},
     "output_type": "execute_result"
    }
   ],
   "source": [
    "X.shape"
   ]
  },
  {
   "cell_type": "code",
   "execution_count": 20,
   "metadata": {},
   "outputs": [
    {
     "data": {
      "text/plain": [
       "['\\x01',\n",
       " '\\x02',\n",
       " '\\x05',\n",
       " '\\x06',\n",
       " '\\x08',\n",
       " '\\x10',\n",
       " '\\x12',\n",
       " '\\x13',\n",
       " '\\x16',\n",
       " '\\x17',\n",
       " '\\x19',\n",
       " '\\x1b',\n",
       " '\\x1c',\n",
       " '\\x1d',\n",
       " '\\x1e',\n",
       " ' ',\n",
       " '!',\n",
       " '\"',\n",
       " '#',\n",
       " '$',\n",
       " '%',\n",
       " '&',\n",
       " '(',\n",
       " ')',\n",
       " '*',\n",
       " '+',\n",
       " '-',\n",
       " '.',\n",
       " '/',\n",
       " '0',\n",
       " '1',\n",
       " '2',\n",
       " '3',\n",
       " '4',\n",
       " '5',\n",
       " '6',\n",
       " '7',\n",
       " '8',\n",
       " '9',\n",
       " ';',\n",
       " '<',\n",
       " '=',\n",
       " '>',\n",
       " '?',\n",
       " '@',\n",
       " '[',\n",
       " '\\\\',\n",
       " ']',\n",
       " '^',\n",
       " '_',\n",
       " '`',\n",
       " 'a',\n",
       " 'b',\n",
       " 'c',\n",
       " 'd',\n",
       " 'e',\n",
       " 'f',\n",
       " 'g',\n",
       " 'h',\n",
       " 'i',\n",
       " 'j',\n",
       " 'k',\n",
       " 'l',\n",
       " 'm',\n",
       " 'n',\n",
       " 'o',\n",
       " 'p',\n",
       " 'q',\n",
       " 'r',\n",
       " 's',\n",
       " 't',\n",
       " 'u',\n",
       " 'v',\n",
       " 'w',\n",
       " 'x',\n",
       " 'y',\n",
       " 'z',\n",
       " '{',\n",
       " '|',\n",
       " '}',\n",
       " '~',\n",
       " '\\x7f',\n",
       " '\\x81',\n",
       " '\\xa0',\n",
       " '¡',\n",
       " '¢',\n",
       " '¨',\n",
       " '«',\n",
       " '¯',\n",
       " '°',\n",
       " '±',\n",
       " '²',\n",
       " '³',\n",
       " '´',\n",
       " 'µ',\n",
       " '·',\n",
       " 'º',\n",
       " '¾',\n",
       " '¿',\n",
       " '×',\n",
       " 'ß',\n",
       " 'à',\n",
       " 'á',\n",
       " 'â',\n",
       " 'ã',\n",
       " 'ä',\n",
       " 'å',\n",
       " 'æ',\n",
       " 'ç',\n",
       " 'é',\n",
       " 'ê',\n",
       " 'í',\n",
       " 'ï',\n",
       " 'ð',\n",
       " 'ñ',\n",
       " 'ò',\n",
       " 'ó',\n",
       " 'ô',\n",
       " 'õ',\n",
       " 'ö',\n",
       " '÷',\n",
       " 'ù',\n",
       " 'ú',\n",
       " 'û',\n",
       " 'ü',\n",
       " 'ý',\n",
       " 'þ',\n",
       " 'ÿ',\n",
       " 'œ',\n",
       " '‚',\n",
       " '…',\n",
       " '‹',\n",
       " '›']"
      ]
     },
     "execution_count": 20,
     "metadata": {},
     "output_type": "execute_result"
    }
   ],
   "source": [
    "vectorizer.get_feature_names()"
   ]
  },
  {
   "cell_type": "code",
   "execution_count": 21,
   "metadata": {},
   "outputs": [
    {
     "data": {
      "text/plain": [
       "<1x133 sparse matrix of type '<class 'numpy.float64'>'\n",
       "\twith 6 stored elements in Compressed Sparse Row format>"
      ]
     },
     "execution_count": 21,
     "metadata": {},
     "output_type": "execute_result"
    }
   ],
   "source": [
    "first_document_vector=X[0]\n",
    "first_document_vector"
   ]
  },
  {
   "cell_type": "code",
   "execution_count": 22,
   "metadata": {},
   "outputs": [
    {
     "data": {
      "text/plain": [
       "<133x1 sparse matrix of type '<class 'numpy.float64'>'\n",
       "\twith 6 stored elements in Compressed Sparse Column format>"
      ]
     },
     "execution_count": 22,
     "metadata": {},
     "output_type": "execute_result"
    }
   ],
   "source": [
    "first_document_vector.T"
   ]
  },
  {
   "cell_type": "code",
   "execution_count": 23,
   "metadata": {},
   "outputs": [
    {
     "data": {
      "text/plain": [
       "matrix([[0.        ],\n",
       "        [0.        ],\n",
       "        [0.        ],\n",
       "        [0.        ],\n",
       "        [0.        ],\n",
       "        [0.        ],\n",
       "        [0.        ],\n",
       "        [0.        ],\n",
       "        [0.        ],\n",
       "        [0.        ],\n",
       "        [0.        ],\n",
       "        [0.        ],\n",
       "        [0.        ],\n",
       "        [0.        ],\n",
       "        [0.        ],\n",
       "        [0.        ],\n",
       "        [0.        ],\n",
       "        [0.        ],\n",
       "        [0.        ],\n",
       "        [0.        ],\n",
       "        [0.        ],\n",
       "        [0.        ],\n",
       "        [0.        ],\n",
       "        [0.        ],\n",
       "        [0.        ],\n",
       "        [0.        ],\n",
       "        [0.        ],\n",
       "        [0.        ],\n",
       "        [0.        ],\n",
       "        [0.        ],\n",
       "        [0.        ],\n",
       "        [0.        ],\n",
       "        [0.        ],\n",
       "        [0.        ],\n",
       "        [0.56693378],\n",
       "        [0.        ],\n",
       "        [0.59165309],\n",
       "        [0.        ],\n",
       "        [0.        ],\n",
       "        [0.        ],\n",
       "        [0.        ],\n",
       "        [0.        ],\n",
       "        [0.        ],\n",
       "        [0.        ],\n",
       "        [0.        ],\n",
       "        [0.        ],\n",
       "        [0.        ],\n",
       "        [0.        ],\n",
       "        [0.        ],\n",
       "        [0.        ],\n",
       "        [0.        ],\n",
       "        [0.        ],\n",
       "        [0.        ],\n",
       "        [0.        ],\n",
       "        [0.28590689],\n",
       "        [0.2210075 ],\n",
       "        [0.        ],\n",
       "        [0.        ],\n",
       "        [0.        ],\n",
       "        [0.        ],\n",
       "        [0.        ],\n",
       "        [0.29183407],\n",
       "        [0.        ],\n",
       "        [0.        ],\n",
       "        [0.        ],\n",
       "        [0.        ],\n",
       "        [0.        ],\n",
       "        [0.        ],\n",
       "        [0.        ],\n",
       "        [0.        ],\n",
       "        [0.        ],\n",
       "        [0.        ],\n",
       "        [0.        ],\n",
       "        [0.        ],\n",
       "        [0.        ],\n",
       "        [0.        ],\n",
       "        [0.33582513],\n",
       "        [0.        ],\n",
       "        [0.        ],\n",
       "        [0.        ],\n",
       "        [0.        ],\n",
       "        [0.        ],\n",
       "        [0.        ],\n",
       "        [0.        ],\n",
       "        [0.        ],\n",
       "        [0.        ],\n",
       "        [0.        ],\n",
       "        [0.        ],\n",
       "        [0.        ],\n",
       "        [0.        ],\n",
       "        [0.        ],\n",
       "        [0.        ],\n",
       "        [0.        ],\n",
       "        [0.        ],\n",
       "        [0.        ],\n",
       "        [0.        ],\n",
       "        [0.        ],\n",
       "        [0.        ],\n",
       "        [0.        ],\n",
       "        [0.        ],\n",
       "        [0.        ],\n",
       "        [0.        ],\n",
       "        [0.        ],\n",
       "        [0.        ],\n",
       "        [0.        ],\n",
       "        [0.        ],\n",
       "        [0.        ],\n",
       "        [0.        ],\n",
       "        [0.        ],\n",
       "        [0.        ],\n",
       "        [0.        ],\n",
       "        [0.        ],\n",
       "        [0.        ],\n",
       "        [0.        ],\n",
       "        [0.        ],\n",
       "        [0.        ],\n",
       "        [0.        ],\n",
       "        [0.        ],\n",
       "        [0.        ],\n",
       "        [0.        ],\n",
       "        [0.        ],\n",
       "        [0.        ],\n",
       "        [0.        ],\n",
       "        [0.        ],\n",
       "        [0.        ],\n",
       "        [0.        ],\n",
       "        [0.        ],\n",
       "        [0.        ],\n",
       "        [0.        ],\n",
       "        [0.        ],\n",
       "        [0.        ],\n",
       "        [0.        ],\n",
       "        [0.        ]])"
      ]
     },
     "execution_count": 23,
     "metadata": {},
     "output_type": "execute_result"
    }
   ],
   "source": [
    "first_document_vector.T.todense()"
   ]
  },
  {
   "cell_type": "code",
   "execution_count": 24,
   "metadata": {},
   "outputs": [
    {
     "data": {
      "text/html": [
       "<div>\n",
       "<style scoped>\n",
       "    .dataframe tbody tr th:only-of-type {\n",
       "        vertical-align: middle;\n",
       "    }\n",
       "\n",
       "    .dataframe tbody tr th {\n",
       "        vertical-align: top;\n",
       "    }\n",
       "\n",
       "    .dataframe thead th {\n",
       "        text-align: right;\n",
       "    }\n",
       "</style>\n",
       "<table border=\"1\" class=\"dataframe\">\n",
       "  <thead>\n",
       "    <tr style=\"text-align: right;\">\n",
       "      <th></th>\n",
       "      <th>TF-IDF</th>\n",
       "    </tr>\n",
       "  </thead>\n",
       "  <tbody>\n",
       "    <tr>\n",
       "      <th>7</th>\n",
       "      <td>0.591653</td>\n",
       "    </tr>\n",
       "    <tr>\n",
       "      <th>5</th>\n",
       "      <td>0.566934</td>\n",
       "    </tr>\n",
       "    <tr>\n",
       "      <th>z</th>\n",
       "      <td>0.335825</td>\n",
       "    </tr>\n",
       "    <tr>\n",
       "      <th>k</th>\n",
       "      <td>0.291834</td>\n",
       "    </tr>\n",
       "    <tr>\n",
       "      <th>d</th>\n",
       "      <td>0.285907</td>\n",
       "    </tr>\n",
       "    <tr>\n",
       "      <th>...</th>\n",
       "      <td>...</td>\n",
       "    </tr>\n",
       "    <tr>\n",
       "      <th>;</th>\n",
       "      <td>0.000000</td>\n",
       "    </tr>\n",
       "    <tr>\n",
       "      <th>9</th>\n",
       "      <td>0.000000</td>\n",
       "    </tr>\n",
       "    <tr>\n",
       "      <th>8</th>\n",
       "      <td>0.000000</td>\n",
       "    </tr>\n",
       "    <tr>\n",
       "      <th>6</th>\n",
       "      <td>0.000000</td>\n",
       "    </tr>\n",
       "    <tr>\n",
       "      <th>›</th>\n",
       "      <td>0.000000</td>\n",
       "    </tr>\n",
       "  </tbody>\n",
       "</table>\n",
       "<p>133 rows × 1 columns</p>\n",
       "</div>"
      ],
      "text/plain": [
       "      TF-IDF\n",
       "7   0.591653\n",
       "5   0.566934\n",
       "z   0.335825\n",
       "k   0.291834\n",
       "d   0.285907\n",
       "..       ...\n",
       ";   0.000000\n",
       "9   0.000000\n",
       "8   0.000000\n",
       "6   0.000000\n",
       "›   0.000000\n",
       "\n",
       "[133 rows x 1 columns]"
      ]
     },
     "execution_count": 24,
     "metadata": {},
     "output_type": "execute_result"
    }
   ],
   "source": [
    "df=pd.DataFrame(first_document_vector.T.todense(),index=vectorizer.get_feature_names(),columns=['TF-IDF'])\n",
    "df.sort_values(by=['TF-IDF'],ascending=False)"
   ]
  },
  {
   "cell_type": "code",
   "execution_count": null,
   "metadata": {},
   "outputs": [],
   "source": []
  },
  {
   "cell_type": "markdown",
   "metadata": {},
   "source": [
    "#### split data into train & test\n",
    "    train---> To learn the relationship within data, \n",
    "    test-->  To do predictions, and this testing data will be unseen to my model"
   ]
  },
  {
   "cell_type": "code",
   "execution_count": 25,
   "metadata": {},
   "outputs": [],
   "source": [
    "from sklearn.model_selection import train_test_split"
   ]
  },
  {
   "cell_type": "code",
   "execution_count": 26,
   "metadata": {},
   "outputs": [],
   "source": [
    "X_train, X_test, y_train, y_test=train_test_split(X,y,test_size=0.2)"
   ]
  },
  {
   "cell_type": "code",
   "execution_count": 27,
   "metadata": {},
   "outputs": [
    {
     "data": {
      "text/plain": [
       "(535711, 133)"
      ]
     },
     "execution_count": 27,
     "metadata": {},
     "output_type": "execute_result"
    }
   ],
   "source": [
    "X_train.shape"
   ]
  },
  {
   "cell_type": "code",
   "execution_count": 28,
   "metadata": {},
   "outputs": [],
   "source": [
    "from sklearn.linear_model import LogisticRegression"
   ]
  },
  {
   "cell_type": "code",
   "execution_count": null,
   "metadata": {},
   "outputs": [],
   "source": []
  },
  {
   "cell_type": "markdown",
   "metadata": {},
   "source": [
    "#### Apply Logistic on data as use-case is Classification"
   ]
  },
  {
   "cell_type": "code",
   "execution_count": 31,
   "metadata": {},
   "outputs": [],
   "source": [
    "clf=LogisticRegression(random_state=91,multi_class='multinomial')"
   ]
  },
  {
   "cell_type": "code",
   "execution_count": 32,
   "metadata": {},
   "outputs": [
    {
     "data": {
      "text/plain": [
       "LogisticRegression(multi_class='multinomial', random_state=91)"
      ]
     },
     "execution_count": 32,
     "metadata": {},
     "output_type": "execute_result"
    }
   ],
   "source": [
    "clf.fit(X_train,y_train)"
   ]
  },
  {
   "cell_type": "code",
   "execution_count": null,
   "metadata": {},
   "outputs": [],
   "source": []
  },
  {
   "cell_type": "markdown",
   "metadata": {},
   "source": [
    "#### doing prediction for specific custom data"
   ]
  },
  {
   "cell_type": "code",
   "execution_count": 33,
   "metadata": {},
   "outputs": [
    {
     "data": {
      "text/plain": [
       "array([1])"
      ]
     },
     "execution_count": 33,
     "metadata": {},
     "output_type": "execute_result"
    }
   ],
   "source": [
    "dt=np.array(['%@123abcd'])\n",
    "pred=vectorizer.transform(dt)\n",
    "clf.predict(pred)"
   ]
  },
  {
   "cell_type": "code",
   "execution_count": null,
   "metadata": {},
   "outputs": [],
   "source": []
  },
  {
   "cell_type": "markdown",
   "metadata": {},
   "source": [
    "#### doing prediction on X-Test data"
   ]
  },
  {
   "cell_type": "code",
   "execution_count": 34,
   "metadata": {},
   "outputs": [
    {
     "data": {
      "text/plain": [
       "array([1, 1, 0, ..., 1, 1, 1])"
      ]
     },
     "execution_count": 34,
     "metadata": {},
     "output_type": "execute_result"
    }
   ],
   "source": [
    "y_pred=clf.predict(X_test)\n",
    "y_pred"
   ]
  },
  {
   "cell_type": "code",
   "execution_count": null,
   "metadata": {},
   "outputs": [],
   "source": []
  },
  {
   "cell_type": "markdown",
   "metadata": {},
   "source": [
    "#### check Accuracy of your model using confusion_matrix,accuracy_score"
   ]
  },
  {
   "cell_type": "code",
   "execution_count": 35,
   "metadata": {},
   "outputs": [],
   "source": [
    "from sklearn.metrics import confusion_matrix,accuracy_score"
   ]
  },
  {
   "cell_type": "code",
   "execution_count": 36,
   "metadata": {},
   "outputs": [
    {
     "name": "stdout",
     "output_type": "stream",
     "text": [
      "[[ 5315 12861    10]\n",
      " [ 3731 93004  2475]\n",
      " [   59  5177 11296]]\n",
      "0.8184621587718774\n"
     ]
    }
   ],
   "source": [
    "cm=confusion_matrix(y_test,y_pred)\n",
    "print(cm)\n",
    "print(accuracy_score(y_test,y_pred))"
   ]
  },
  {
   "cell_type": "code",
   "execution_count": null,
   "metadata": {},
   "outputs": [],
   "source": []
  },
  {
   "cell_type": "markdown",
   "metadata": {},
   "source": [
    "##### create report of your model"
   ]
  },
  {
   "cell_type": "code",
   "execution_count": 37,
   "metadata": {},
   "outputs": [
    {
     "name": "stdout",
     "output_type": "stream",
     "text": [
      "              precision    recall  f1-score   support\n",
      "\n",
      "           0       0.58      0.29      0.39     18186\n",
      "           1       0.84      0.94      0.88     99210\n",
      "           2       0.82      0.68      0.75     16532\n",
      "\n",
      "    accuracy                           0.82    133928\n",
      "   macro avg       0.75      0.64      0.67    133928\n",
      "weighted avg       0.80      0.82      0.80    133928\n",
      "\n"
     ]
    }
   ],
   "source": [
    "from sklearn.metrics import classification_report\n",
    "print(classification_report(y_test,y_pred))"
   ]
  },
  {
   "cell_type": "code",
   "execution_count": 29,
   "metadata": {},
   "outputs": [
    {
     "name": "stderr",
     "output_type": "stream",
     "text": [
      "Intel(R) oneAPI Data Analytics Library solvers for sklearn enabled: https://intelpython.github.io/daal4py/sklearn.html\n"
     ]
    }
   ],
   "source": [
    "from sklearnex import patch_sklearn\n",
    "patch_sklearn()"
   ]
  },
  {
   "cell_type": "code",
   "execution_count": 30,
   "metadata": {},
   "outputs": [],
   "source": [
    "from sklearn.ensemble import RandomForestClassifier"
   ]
  },
  {
   "cell_type": "code",
   "execution_count": 31,
   "metadata": {},
   "outputs": [],
   "source": [
    "clfr = RandomForestClassifier(n_estimators = 1000, random_state = 101, verbose = True, n_jobs = -1)"
   ]
  },
  {
   "cell_type": "code",
   "execution_count": 32,
   "metadata": {},
   "outputs": [
    {
     "name": "stderr",
     "output_type": "stream",
     "text": [
      "[Parallel(n_jobs=-1)]: Using backend ThreadingBackend with 4 concurrent workers.\n",
      "[Parallel(n_jobs=-1)]: Done  42 tasks      | elapsed:  5.5min\n",
      "[Parallel(n_jobs=-1)]: Done 192 tasks      | elapsed: 22.9min\n",
      "[Parallel(n_jobs=-1)]: Done 442 tasks      | elapsed: 52.5min\n",
      "[Parallel(n_jobs=-1)]: Done 792 tasks      | elapsed: 92.9min\n",
      "[Parallel(n_jobs=-1)]: Done 1000 out of 1000 | elapsed: 117.2min finished\n"
     ]
    },
    {
     "data": {
      "text/plain": [
       "RandomForestClassifier(n_estimators=1000, n_jobs=-1, random_state=101,\n",
       "                       verbose=True)"
      ]
     },
     "execution_count": 32,
     "metadata": {},
     "output_type": "execute_result"
    }
   ],
   "source": [
    "clfr.fit(X_train, y_train)"
   ]
  },
  {
   "cell_type": "code",
   "execution_count": 33,
   "metadata": {},
   "outputs": [
    {
     "name": "stderr",
     "output_type": "stream",
     "text": [
      "[Parallel(n_jobs=4)]: Using backend ThreadingBackend with 4 concurrent workers.\n",
      "[Parallel(n_jobs=4)]: Done  42 tasks      | elapsed:    1.3s\n",
      "[Parallel(n_jobs=4)]: Done 192 tasks      | elapsed:    6.9s\n",
      "[Parallel(n_jobs=4)]: Done 442 tasks      | elapsed:   13.7s\n",
      "[Parallel(n_jobs=4)]: Done 792 tasks      | elapsed:   23.4s\n",
      "[Parallel(n_jobs=4)]: Done 1000 out of 1000 | elapsed:   28.6s finished\n"
     ]
    }
   ],
   "source": [
    "y_p1 = clfr.predict(X_test)"
   ]
  },
  {
   "cell_type": "code",
   "execution_count": 35,
   "metadata": {},
   "outputs": [
    {
     "name": "stdout",
     "output_type": "stream",
     "text": [
      "              precision    recall  f1-score   support\n",
      "\n",
      "           0       0.99      0.94      0.96     18086\n",
      "           1       0.98      1.00      0.99     99416\n",
      "           2       0.99      0.97      0.98     16426\n",
      "\n",
      "    accuracy                           0.98    133928\n",
      "   macro avg       0.99      0.97      0.98    133928\n",
      "weighted avg       0.98      0.98      0.98    133928\n",
      "\n"
     ]
    }
   ],
   "source": [
    "from sklearn.metrics import classification_report\n",
    "print(classification_report(y_test, y_p1))"
   ]
  },
  {
   "cell_type": "code",
   "execution_count": 36,
   "metadata": {},
   "outputs": [
    {
     "name": "stdout",
     "output_type": "stream",
     "text": [
      "[[16966  1118     2]\n",
      " [  220 99014   182]\n",
      " [   13   497 15916]]\n",
      "0.9848276685980527\n"
     ]
    }
   ],
   "source": [
    "from sklearn.metrics import confusion_matrix,accuracy_score\n",
    "cm=confusion_matrix(y_test,y_p1)\n",
    "print(cm)\n",
    "print(accuracy_score(y_test,y_p1))"
   ]
  },
  {
   "cell_type": "markdown",
   "metadata": {},
   "source": [
    "## Model accuracy is 98%, model can perform much better in predicting password strength of new passwords"
   ]
  },
  {
   "cell_type": "code",
   "execution_count": null,
   "metadata": {},
   "outputs": [],
   "source": []
  }
 ],
 "metadata": {
  "kernelspec": {
   "display_name": "Python 3",
   "language": "python",
   "name": "python3"
  },
  "language_info": {
   "codemirror_mode": {
    "name": "ipython",
    "version": 3
   },
   "file_extension": ".py",
   "mimetype": "text/x-python",
   "name": "python",
   "nbconvert_exporter": "python",
   "pygments_lexer": "ipython3",
   "version": "3.8.5"
  }
 },
 "nbformat": 4,
 "nbformat_minor": 2
}
